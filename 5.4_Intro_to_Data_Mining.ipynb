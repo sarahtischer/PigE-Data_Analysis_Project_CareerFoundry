{
 "cells": [
  {
   "cell_type": "markdown",
   "id": "4a8ed909",
   "metadata": {},
   "source": [
    "### Calculating information gain based on entropy"
   ]
  },
  {
   "cell_type": "code",
   "execution_count": 1,
   "id": "f1c39c3c",
   "metadata": {},
   "outputs": [],
   "source": [
    "# Import libraries\n",
    "import pandas as pd\n",
    "from math import log"
   ]
  },
  {
   "cell_type": "code",
   "execution_count": 6,
   "id": "f19073b7",
   "metadata": {},
   "outputs": [],
   "source": [
    "# Import data\n",
    "data = pd.read_excel(r'/Users/sarahtischer/Desktop/CareerFoundry/Data Immersion/Achievement 5/5.4_Intro_to_Data_Mining.xlsx', sheet_name=\"Cleaned_data(NULL excluded)\")"
   ]
  },
  {
   "cell_type": "code",
   "execution_count": 8,
   "id": "dd445f73",
   "metadata": {},
   "outputs": [
    {
     "name": "stdout",
     "output_type": "stream",
     "text": [
      "Information gains\n",
      "Age: 0.1418117661618642\n",
      "Country: 0.013209240889685891\n",
      "IsActiveMember: 0.03338417174014874\n"
     ]
    }
   ],
   "source": [
    "# Define a function to calculate entropy\n",
    "def calculate_entropy(data_column):\n",
    "    number = len(data_column)\n",
    "    label_counts = {}\n",
    "    for label in data_column:\n",
    "        if label not in label_counts.keys():\n",
    "            label_counts[label] = 0\n",
    "        label_counts[label] += 1\n",
    "    entropy = 0\n",
    "    for count in label_counts.values():\n",
    "        probability = count / number\n",
    "        entropy -= probability * log(probability, 2)\n",
    "    return entropy\n",
    "\n",
    "# Calculate entropy of the target variable ('ExitedFromBank')\n",
    "target_entropy = calculate_entropy(data[\"ExitedFromBank\"])\n",
    "\n",
    "# Calculate entropy for each variable\n",
    "variables = [\"Age\", \"Country\", \"IsActiveMember\"]\n",
    "information_gains = {}\n",
    "for variable in variables:\n",
    "    total_entropy_after_split = 0\n",
    "    unique_values = data[variable].unique()\n",
    "    for value in unique_values:\n",
    "        subset = data[data[variable] == value]\n",
    "        entropy_branch = calculate_entropy(subset[\"ExitedFromBank\"])\n",
    "        total_entropy_after_split += (len(subset) / len(data)) * entropy_branch\n",
    "    information_gain = target_entropy - total_entropy_after_split\n",
    "    information_gains[variable] = information_gain\n",
    "    \n",
    "# Print information gain for each variable\n",
    "print(\"Information gains\")\n",
    "for variable, gain in information_gains.items():\n",
    "    print(f\"{variable}: {gain}\")"
   ]
  }
 ],
 "metadata": {
  "kernelspec": {
   "display_name": "Python 3 (ipykernel)",
   "language": "python",
   "name": "python3"
  },
  "language_info": {
   "codemirror_mode": {
    "name": "ipython",
    "version": 3
   },
   "file_extension": ".py",
   "mimetype": "text/x-python",
   "name": "python",
   "nbconvert_exporter": "python",
   "pygments_lexer": "ipython3",
   "version": "3.11.5"
  }
 },
 "nbformat": 4,
 "nbformat_minor": 5
}
